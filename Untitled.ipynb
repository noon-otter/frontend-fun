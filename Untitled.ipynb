{
 "cells": [
  {
   "cell_type": "code",
   "execution_count": 2,
   "id": "f2924ff6-803c-464e-bbf1-b92ab7c4ce4a",
   "metadata": {},
   "outputs": [],
   "source": [
    "#!/usr/bin/env python3\n",
    "\"\"\"\n",
    "Simple script to get git repository information from a Domino experiment_id.\n",
    "\"\"\"\n",
    "\n",
    "import requests\n",
    "import json\n",
    "import sys\n",
    "from typing import Dict, List, Optional\n",
    "\n",
    "class DominoAPI:\n",
    "    def __init__(self, base_url: str, api_key: str):\n",
    "        self.base_url = base_url.rstrip('/')\n",
    "        self.headers = {\n",
    "            'accept': 'application/json',\n",
    "            'X-Domino-Api-Key': api_key\n",
    "        }\n",
    "    \n",
    "    def get_job_details(self, job_id: str) -> Dict:\n",
    "        \"\"\"Get job details including git repo information.\"\"\"\n",
    "        url = f\"{self.base_url}/jobs/{job_id}\"\n",
    "        response = requests.get(url, headers=self.headers)\n",
    "        response.raise_for_status()\n",
    "        return response.json()\n",
    "    \n",
    "    def get_git_repos_from_job(self, job_id: str) -> List[Dict]:\n",
    "        \"\"\"Extract git repository information from a job.\"\"\"\n",
    "        job_data = self.get_job_details(job_id)\n",
    "        return job_data.get('gitRepos', [])\n",
    "\n"
   ]
  },
  {
   "cell_type": "code",
   "execution_count": 6,
   "id": "e53345e8-618d-4e23-8656-b537c732bbdc",
   "metadata": {},
   "outputs": [
    {
     "name": "stdout",
     "output_type": "stream",
     "text": [
      "Usage: python domino_git_repo_finder.py <experiment_id>\n"
     ]
    },
    {
     "ename": "SystemExit",
     "evalue": "1",
     "output_type": "error",
     "traceback": [
      "An exception has occurred, use %tb to see the full traceback.\n",
      "\u001b[0;31mSystemExit\u001b[0m\u001b[0;31m:\u001b[0m 1\n"
     ]
    }
   ],
   "source": [
    "# Configuration\n",
    "BASE_URL = \"https://se-demo.domino.tech/api\"\n",
    "API_KEY = \"914d81ea8309f1dcb03ec63a4df82c66adad7fb9e5fbf6f24831fe7b59c7ab0b\"\n",
    "\n",
    "experiment_id = sys.argv[1]\n",
    "\n",
    "# Initialize API client\n",
    "api = DominoAPI(BASE_URL, API_KEY)\n",
    "\n",
    "# Get git repositories for the experiment\n",
    "git_repos = api.get_git_repos_from_job(experiment_id)\n",
    "\n",
    "if not git_repos:\n",
    "    print(f\"No git repositories found for experiment {experiment_id}\")\n",
    "    return\n",
    "\n",
    "print(f\"Git repositories for experiment {experiment_id}:\")\n",
    "print(\"=\" * 50)\n",
    "\n",
    "for i, repo in enumerate(git_repos, 1):\n",
    "    print(f\"\\nRepository {i}:\")\n",
    "    print(f\"  ID: {repo.get('id', 'N/A')}\")\n",
    "    print(f\"  Name: {repo.get('name', 'N/A')}\")\n",
    "    print(f\"  Starting Branch: {repo.get('startingBranch', 'N/A')}\")\n",
    "    print(f\"  Ending Branch: {repo.get('endingBranch', 'N/A')}\")\n",
    "    print(f\"  Starting Commit: {repo.get('startingCommitId', 'N/A')}\")\n",
    "    print(f\"  Ending Commit: {repo.get('endingCommitId', 'N/A')}\")\n",
    "    print(f\"  Service Provider: {repo.get('serviceProvider', 'N/A')}\")\n",
    "    \n",
    "    if 'ref' in repo:\n",
    "        print(f\"  Reference: {repo['ref']}\")"
   ]
  },
  {
   "cell_type": "code",
   "execution_count": null,
   "id": "e8ab9f3a-b927-4369-a83b-299aae741074",
   "metadata": {},
   "outputs": [],
   "source": []
  }
 ],
 "metadata": {
  "kernelspec": {
   "display_name": "Python 3 (ipykernel)",
   "language": "python",
   "name": "python3"
  },
  "language_info": {
   "codemirror_mode": {
    "name": "ipython",
    "version": 3
   },
   "file_extension": ".py",
   "mimetype": "text/x-python",
   "name": "python",
   "nbconvert_exporter": "python",
   "pygments_lexer": "ipython3",
   "version": "3.10.14"
  }
 },
 "nbformat": 4,
 "nbformat_minor": 5
}
