{
 "cells": [
  {
   "cell_type": "code",
   "execution_count": 6,
   "id": "210919e3-8803-4514-803c-c1273470f4ce",
   "metadata": {},
   "outputs": [
    {
     "name": "stdout",
     "output_type": "stream",
     "text": [
      "📝 Training 7 models\n",
      "\n",
      "\n",
      "🔄 Processing HelpBot...\n"
     ]
    },
    {
     "name": "stderr",
     "output_type": "stream",
     "text": [
      "\u001b[31m2025/09/11 21:13:37 WARNING mlflow.models.model: Model logged without a signature and input example. Please set `input_example` parameter when logging the model to auto infer the model signature.\u001b[0m\n",
      "Registered model 'HelpBot' already exists. Creating a new version of this model...\n",
      "2025/09/11 21:13:39 INFO mlflow.store.model_registry.abstract_store: Waiting up to 300 seconds for model version to finish creation. Model name: HelpBot, version 3\n",
      "Created version '3' of model 'HelpBot'.\n"
     ]
    },
    {
     "name": "stdout",
     "output_type": "stream",
     "text": [
      "🏃 View run HelpBot_run at: http://127.0.0.1:8768/#/experiments/1830/runs/f212f338f3b84fa7a419e83daf486bc2\n",
      "🧪 View experiment at: http://127.0.0.1:8768/#/experiments/1830\n",
      "\n",
      "🔄 Processing PressFinder...\n"
     ]
    },
    {
     "name": "stderr",
     "output_type": "stream",
     "text": [
      "\u001b[31m2025/09/11 21:13:42 WARNING mlflow.models.model: Model logged without a signature and input example. Please set `input_example` parameter when logging the model to auto infer the model signature.\u001b[0m\n",
      "Registered model 'PressFinder' already exists. Creating a new version of this model...\n",
      "2025/09/11 21:13:44 INFO mlflow.store.model_registry.abstract_store: Waiting up to 300 seconds for model version to finish creation. Model name: PressFinder, version 3\n",
      "Created version '3' of model 'PressFinder'.\n"
     ]
    },
    {
     "name": "stdout",
     "output_type": "stream",
     "text": [
      "🏃 View run PressFinder_run at: http://127.0.0.1:8768/#/experiments/1830/runs/520de617929a4ad4b114e8148862ea05\n",
      "🧪 View experiment at: http://127.0.0.1:8768/#/experiments/1830\n",
      "\n",
      "🔄 Processing VoiceOverPro...\n"
     ]
    },
    {
     "name": "stderr",
     "output_type": "stream",
     "text": [
      "\u001b[31m2025/09/11 21:13:48 WARNING mlflow.models.model: Model logged without a signature and input example. Please set `input_example` parameter when logging the model to auto infer the model signature.\u001b[0m\n",
      "Registered model 'VoiceOverPro' already exists. Creating a new version of this model...\n",
      "2025/09/11 21:13:49 INFO mlflow.store.model_registry.abstract_store: Waiting up to 300 seconds for model version to finish creation. Model name: VoiceOverPro, version 3\n",
      "Created version '3' of model 'VoiceOverPro'.\n"
     ]
    },
    {
     "name": "stdout",
     "output_type": "stream",
     "text": [
      "🏃 View run VoiceOverPro_run at: http://127.0.0.1:8768/#/experiments/1830/runs/e326c3a5622a4423a08eae5842e6b7d3\n",
      "🧪 View experiment at: http://127.0.0.1:8768/#/experiments/1830\n",
      "\n",
      "🔄 Processing FINREP_Extractor...\n"
     ]
    },
    {
     "name": "stderr",
     "output_type": "stream",
     "text": [
      "\u001b[31m2025/09/11 21:13:53 WARNING mlflow.models.model: Model logged without a signature and input example. Please set `input_example` parameter when logging the model to auto infer the model signature.\u001b[0m\n",
      "Registered model 'FINREP_Extractor' already exists. Creating a new version of this model...\n",
      "2025/09/11 21:13:55 INFO mlflow.store.model_registry.abstract_store: Waiting up to 300 seconds for model version to finish creation. Model name: FINREP_Extractor, version 3\n",
      "Created version '3' of model 'FINREP_Extractor'.\n"
     ]
    },
    {
     "name": "stdout",
     "output_type": "stream",
     "text": [
      "🏃 View run FINREP_Extractor_run at: http://127.0.0.1:8768/#/experiments/1830/runs/91bae52401ff4d1c9e041c055af08d0d\n",
      "🧪 View experiment at: http://127.0.0.1:8768/#/experiments/1830\n",
      "\n",
      "🔄 Processing Fitch_Portfolio_Optimizer...\n"
     ]
    },
    {
     "name": "stderr",
     "output_type": "stream",
     "text": [
      "\u001b[31m2025/09/11 21:13:59 WARNING mlflow.models.model: Model logged without a signature and input example. Please set `input_example` parameter when logging the model to auto infer the model signature.\u001b[0m\n",
      "Registered model 'Fitch_Portfolio_Optimizer' already exists. Creating a new version of this model...\n",
      "2025/09/11 21:14:00 INFO mlflow.store.model_registry.abstract_store: Waiting up to 300 seconds for model version to finish creation. Model name: Fitch_Portfolio_Optimizer, version 3\n",
      "Created version '3' of model 'Fitch_Portfolio_Optimizer'.\n"
     ]
    },
    {
     "name": "stdout",
     "output_type": "stream",
     "text": [
      "🏃 View run Fitch_Portfolio_Optimizer_run at: http://127.0.0.1:8768/#/experiments/1830/runs/cb7b9fd8a62b48318fed3466e9a429a3\n",
      "🧪 View experiment at: http://127.0.0.1:8768/#/experiments/1830\n",
      "\n",
      "🔄 Processing EntityTagger_Pro...\n"
     ]
    },
    {
     "name": "stderr",
     "output_type": "stream",
     "text": [
      "\u001b[31m2025/09/11 21:14:04 WARNING mlflow.models.model: Model logged without a signature and input example. Please set `input_example` parameter when logging the model to auto infer the model signature.\u001b[0m\n",
      "Registered model 'EntityTagger_Pro' already exists. Creating a new version of this model...\n",
      "2025/09/11 21:14:06 INFO mlflow.store.model_registry.abstract_store: Waiting up to 300 seconds for model version to finish creation. Model name: EntityTagger_Pro, version 3\n",
      "Created version '3' of model 'EntityTagger_Pro'.\n"
     ]
    },
    {
     "name": "stdout",
     "output_type": "stream",
     "text": [
      "🏃 View run EntityTagger_Pro_run at: http://127.0.0.1:8768/#/experiments/1830/runs/8f9eadb5a24645618aef889eda8a3011\n",
      "🧪 View experiment at: http://127.0.0.1:8768/#/experiments/1830\n",
      "\n",
      "🔄 Processing ResumeRanker_Pro...\n"
     ]
    },
    {
     "name": "stderr",
     "output_type": "stream",
     "text": [
      "\u001b[31m2025/09/11 21:14:10 WARNING mlflow.models.model: Model logged without a signature and input example. Please set `input_example` parameter when logging the model to auto infer the model signature.\u001b[0m\n",
      "Registered model 'ResumeRanker_Pro' already exists. Creating a new version of this model...\n",
      "2025/09/11 21:14:11 INFO mlflow.store.model_registry.abstract_store: Waiting up to 300 seconds for model version to finish creation. Model name: ResumeRanker_Pro, version 3\n"
     ]
    },
    {
     "name": "stdout",
     "output_type": "stream",
     "text": [
      "🏃 View run ResumeRanker_Pro_run at: http://127.0.0.1:8768/#/experiments/1830/runs/d844dc49b15a45a48666252088181333\n",
      "🧪 View experiment at: http://127.0.0.1:8768/#/experiments/1830\n",
      "\n",
      "✨ Training Complete with Method 2 only!\n",
      "📈 MLflow Experiment: Model_Trainingv2_nick_goble_lR__vLoo\n",
      "📄 Summary: /tmp/method2_summary_20250911_211411.json\n",
      "🔍 Total models: 7\n",
      "📋 Total registrations: 7\n"
     ]
    },
    {
     "name": "stderr",
     "output_type": "stream",
     "text": [
      "Created version '3' of model 'ResumeRanker_Pro'.\n"
     ]
    }
   ],
   "source": [
    "import pandas as pd\n",
    "import numpy as np\n",
    "from datetime import datetime\n",
    "import mlflow\n",
    "import mlflow.sklearn\n",
    "from sklearn.linear_model import LinearRegression\n",
    "from sklearn.model_selection import train_test_split\n",
    "import os\n",
    "import hashlib\n",
    "import base64\n",
    "import json\n",
    "\n",
    "def domino_short_id(length=8):\n",
    "    user = os.environ.get(\"DOMINO_STARTING_USERNAME\", \"demo_user\")\n",
    "    project = os.environ.get(\"DOMINO_PROJECT_ID\", \"demo_project\")\n",
    "    digest = hashlib.sha256(f\"{user}/{project}\".encode()).digest()\n",
    "    encoded = base64.urlsafe_b64encode(digest).decode(\"utf-8\").rstrip(\"=\")\n",
    "    return f\"{user}_{encoded[:length]}\"\n",
    "\n",
    "def generate_data(n=200):\n",
    "    \"\"\"Generate fake data for model training\"\"\"\n",
    "    X = pd.DataFrame({\n",
    "        'feature_1': np.random.randn(n),\n",
    "        'feature_2': np.random.randn(n),\n",
    "        'feature_3': np.random.randn(n),\n",
    "        'feature_4': np.random.randn(n)\n",
    "    })\n",
    "    y = X.sum(axis=1) + np.random.randn(n) * 0.1\n",
    "    return X, y\n",
    "\n",
    "# Define simplified models\n",
    "MODELS = [\n",
    "    {\"name\": \"HelpBot\", \"long_name\": \"Internal Helpdesk Chatbot\"},\n",
    "    {\"name\": \"PressFinder\", \"long_name\": \"Customer Press Release Discovery & Summary Tool\"},\n",
    "    {\"name\": \"VoiceOverPro\", \"long_name\": \"Internal Video Voice-Over Tool\"},\n",
    "    {\"name\": \"FINREP_Extractor\", \"long_name\": \"Internal Tool: Data Extractor from Financial Reports\"},\n",
    "    {\"name\": \"Fitch_Portfolio_Optimizer\", \"long_name\": \"Portfolio Optimization Tool for Subscribers\"},\n",
    "    {\"name\": \"EntityTagger_Pro\", \"long_name\": \"Third-Party Press Release Tagging Tool\"},\n",
    "    {\"name\": \"ResumeRanker_Pro\", \"long_name\": \"Recruitment Selection Support Tool\"}\n",
    "]\n",
    "\n",
    "def train_and_register_model(model_info):\n",
    "    with mlflow.start_run(run_name=f\"{model_info['name']}_run\") as run:\n",
    "        X, y = generate_data()\n",
    "        X_train, X_test, y_train, y_test = train_test_split(X, y, test_size=0.2, random_state=42)\n",
    "        \n",
    "        model = LinearRegression()\n",
    "        model.fit(X_train, y_train)\n",
    "        y_pred = model.predict(X_test)\n",
    "        \n",
    "        # Log parameters and metrics\n",
    "        mlflow.log_params({\n",
    "            \"model_name\": model_info[\"name\"],\n",
    "            \"data_points\": len(X_train),\n",
    "            \"features\": list(X.columns)\n",
    "        })\n",
    "        \n",
    "        rmse = np.sqrt(((y_test - y_pred) ** 2).mean())\n",
    "        r2 = 1 - ((y_test - y_pred) ** 2).sum() / ((y_test - y_test.mean()) ** 2).sum()\n",
    "        \n",
    "        # Generate health value with the specified distribution\n",
    "        if np.random.rand() < 0.7:  # 70% chance\n",
    "            health = np.random.uniform(0.95, 0.99)\n",
    "        else:  # 30% chance\n",
    "            health = np.random.uniform(0.3, 0.95)\n",
    "        \n",
    "        mlflow.log_metrics({\n",
    "            \"rmse\": rmse,\n",
    "            \"r2_score\": r2,\n",
    "            \"health\": health\n",
    "        })\n",
    "        \n",
    "        # Set tags including long-name\n",
    "        mlflow.set_tags({\n",
    "            \"long-name\": model_info[\"long_name\"],\n",
    "            \"timestamp\": datetime.now().isoformat()\n",
    "        })\n",
    "        \n",
    "        # Log model and register after run\n",
    "        mlflow.sklearn.log_model(model, \"model\")\n",
    "        model_uri = f\"runs:/{run.info.run_id}/model\"\n",
    "        registered_model_name = f\"{model_info['name']}\"\n",
    "        \n",
    "        mlflow.register_model(\n",
    "            model_uri=model_uri,\n",
    "            name=registered_model_name,\n",
    "            tags={\"long-name\": model_info[\"long_name\"]}\n",
    "        )\n",
    "        return run.info.run_id\n",
    "\n",
    "if __name__ == \"__main__\":\n",
    "    print(f\"📝 Training {len(MODELS)} models\\n\")\n",
    "    \n",
    "    # Create one experiment for all models\n",
    "    experiment_name = f\"Model_Trainingv2_{domino_short_id()}\"\n",
    "    mlflow.set_experiment(experiment_name)\n",
    "    \n",
    "    all_runs = []\n",
    "    \n",
    "    for model_info in MODELS:\n",
    "        try:\n",
    "            print(f\"\\n🔄 Processing {model_info['name']}...\")\n",
    "            run_id = train_and_register_model(model_info)\n",
    "            all_runs.append({\n",
    "                \"name\": f\"{model_info['name']}\",\n",
    "                \"run_id\": run_id\n",
    "            })\n",
    "        except Exception as e:\n",
    "            print(f\"❌ Error processing {model_info['name']}: {str(e)}\")\n",
    "    \n",
    "    # Save summary\n",
    "    summary_path = f\"/tmp/method2_summary_{datetime.now().strftime('%Y%m%d_%H%M%S')}.json\"\n",
    "    with open(summary_path, 'w') as f:\n",
    "        json.dump({\n",
    "            \"experiment_name\": experiment_name,\n",
    "            \"models_processed\": len(MODELS),\n",
    "            \"total_registrations\": len(all_runs),\n",
    "            \"runs\": all_runs\n",
    "        }, f, indent=2)\n",
    "    \n",
    "    print(f\"\\n✨ Training Complete with Method 2 only!\")\n",
    "    print(f\"📈 MLflow Experiment: {experiment_name}\")\n",
    "    print(f\"📄 Summary: {summary_path}\")\n",
    "    print(f\"🔍 Total models: {len(MODELS)}\")\n",
    "    print(f\"📋 Total registrations: {len(all_runs)}\")\n"
   ]
  },
  {
   "cell_type": "code",
   "execution_count": null,
   "id": "e7655001-9d2e-495d-8bff-c1f74ea05b04",
   "metadata": {},
   "outputs": [],
   "source": []
  }
 ],
 "metadata": {
  "kernelspec": {
   "display_name": "Python 3 (ipykernel)",
   "language": "python",
   "name": "python3"
  },
  "language_info": {
   "codemirror_mode": {
    "name": "ipython",
    "version": 3
   },
   "file_extension": ".py",
   "mimetype": "text/x-python",
   "name": "python",
   "nbconvert_exporter": "python",
   "pygments_lexer": "ipython3",
   "version": "3.10.14"
  }
 },
 "nbformat": 4,
 "nbformat_minor": 5
}
