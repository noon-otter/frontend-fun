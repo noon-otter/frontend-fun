{
 "cells": [
  {
   "cell_type": "code",
   "execution_count": 1,
   "id": "88d0d363-12fc-466e-95ee-fff160aa93f4",
   "metadata": {},
   "outputs": [
    {
     "name": "stdout",
     "output_type": "stream",
     "text": [
      "DOMINO_NODE_IP = 10.0.81.219\n",
      "DOMINO_IS_GIT_BASED = true\n",
      "DOMINO_PROJECT_ID = 6887ade2f86628673c5c56f8\n",
      "DOMINO_USER_ID = 12574\n",
      "DOMINO_GROUP = ubuntu\n",
      "DOMINO_USER_NAME = nick_goble\n",
      "DOMINO_PROJECT_OWNER = nick_goble\n",
      "DOMINO_IS_WORKFLOW_JOB = false\n",
      "DOMINO_RUN_HOST_PATH = /nick_goble/model-manager-dashboard/r/notebookSession/68c8871265da9a7e2662c4d3/\n",
      "DOMINO_USER_API_KEY = 914d81ea8309f1dcb03ec63a4df82c66adad7fb9e5fbf6f24831fe7b59c7ab0b\n",
      "DOMINO_DATASOURCE_PROXY_FLIGHT_HOST = grpc://datasource-proxy.domino-platform:8080\n",
      "DOMINO_DATASETS_DIR = /mnt/data\n",
      "DOMINO_NODE_NAME = ip-10-0-81-219.us-west-2.compute.internal\n",
      "DOMINO_DATA_API_GATEWAY = http://127.0.0.1:8766\n",
      "DOMINO_HARDWARE_TIER_ID = small-k8s\n",
      "DOMINO_IS_LOCAL_DATA_PLANE = true\n",
      "DOMINO_ARTIFACTS_DIR = /mnt/artifacts\n",
      "DOMINO_RUN_ID = 68c8871265da9a7e2662c4d3\n",
      "DOMINO_IMPORTED_ARTIFACTS_DIR = /mnt/imported/artifacts\n",
      "DOMINO_RUN_NUMBER = 11\n",
      "DOMINO_IMPORTED_DATA_DIR = /mnt/imported/data\n",
      "DOMINO_USER = ubuntu\n",
      "DOMINO_USER_HOST = http://nucleus-frontend.domino-platform:80\n",
      "DOMINO_GROUP_ID = 12574\n",
      "DOMINO_API_KEY = 914d81ea8309f1dcb03ec63a4df82c66adad7fb9e5fbf6f24831fe7b59c7ab0b\n",
      "DOMINO_STARTING_USERNAME = nick_goble\n",
      "DOMINO_TRAINING_SET_PATH = /var/opt/domino/trainingset/project\n",
      "DOMINO_IMPORTED_CODE_DIR = /mnt/imported/code\n",
      "DOMINO_MLFLOW_DEPLOYMENTS = http://127.0.0.1:8767\n",
      "DOMINO_PROJECT_NAME = model-manager-dashboard\n",
      "DOMINO_DOTDOMINO_DIR = /mnt/artifacts/.domino\n",
      "DOMINO_EXECUTOR_TERMINATION_TOKEN = 1f44ae6c7e913d1e24cb1fda6d9b952419f726e209ec627155ef6e59e1e9e4e5\n",
      "DOMINO_WORKING_DIR = /mnt/code\n",
      "DOMINO_DATASOURCE_PROXY_HOST = http://datasource-proxy.domino-platform:80\n",
      "DOMINO_API_PROXY = http://localhost:8899\n",
      "DOMINO_API_HOST = http://nucleus-frontend.domino-platform:80\n"
     ]
    }
   ],
   "source": [
    "import os\n",
    "\n",
    "# Grab all env vars containing \"Domino\" in the key\n",
    "domino_env_vars = {k: v for k, v in os.environ.items() if \"Domino\" in k or \"DOMINO\" in k}\n",
    "\n",
    "# Print them nicely\n",
    "for key, value in domino_env_vars.items():\n",
    "    print(f\"{key} = {value}\")\n",
    "\n"
   ]
  }
 ],
 "metadata": {
  "kernelspec": {
   "display_name": "Python 3 (ipykernel)",
   "language": "python",
   "name": "python3"
  },
  "language_info": {
   "codemirror_mode": {
    "name": "ipython",
    "version": 3
   },
   "file_extension": ".py",
   "mimetype": "text/x-python",
   "name": "python",
   "nbconvert_exporter": "python",
   "pygments_lexer": "ipython3",
   "version": "3.10.14"
  }
 },
 "nbformat": 4,
 "nbformat_minor": 5
}
